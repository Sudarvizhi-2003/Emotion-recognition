{
 "cells": [
  {
   "cell_type": "code",
   "execution_count": 1,
   "id": "04615807-062a-47c3-aa24-7eba91b629e7",
   "metadata": {},
   "outputs": [],
   "source": [
    "from keras.utils import to_categorical\n",
    "from keras.preprocessing.image import load_img\n",
    "from keras.models import Sequential\n",
    "from keras.layers import Dense, Conv2D, Dropout, Flatten, MaxPooling2D\n",
    "import os\n",
    "import pandas as pd\n",
    "import numpy as np\n",
    "from tqdm.notebook import tqdm\n",
    "from PIL import Image\n",
    "from sklearn.preprocessing import LabelEncoder\n",
    "import ipywidgets as widgets\n",
    "from IPython.display import display"
   ]
  },
  {
   "cell_type": "code",
   "execution_count": 4,
   "id": "b26667a1-cfee-4ff9-8412-882e8e41e0a0",
   "metadata": {},
   "outputs": [],
   "source": [
    "Train_dir = 'F:\\\\Naan mudhalvan project sem 6\\\\archive (2)\\\\images\\\\train'\n",
    "Test_dir = 'F:\\\\Naan mudhalvan project sem 6\\\\archive (2)\\\\images\\\\validation'"
   ]
  },
  {
   "cell_type": "code",
   "execution_count": 5,
   "id": "52030fc8-a019-4a4d-942b-f04e6f932989",
   "metadata": {},
   "outputs": [],
   "source": [
    "def createdataframe(dir):\n",
    "    image_path = []\n",
    "    labels = []\n",
    "    for label in os.listdir(dir):\n",
    "        for imagename in os.listdir(os.path.join(dir,label)):\n",
    "            image_path.append(os.path.join(dir,label,imagename))\n",
    "            labels.append(label)\n",
    "        print(label,\"completed\")\n",
    "    return image_path,labels"
   ]
  },
  {
   "cell_type": "code",
   "execution_count": 6,
   "id": "ecf94413-5940-4e58-96ca-b8607cc12005",
   "metadata": {},
   "outputs": [
    {
     "name": "stdout",
     "output_type": "stream",
     "text": [
      "angry completed\n",
      "disgust completed\n",
      "fear completed\n",
      "happy completed\n",
      "neutral completed\n",
      "sad completed\n",
      "surprise completed\n"
     ]
    }
   ],
   "source": [
    "train = pd.DataFrame()\n",
    "train['image'],train['label']=createdataframe(Train_dir)"
   ]
  },
  {
   "cell_type": "code",
   "execution_count": 7,
   "id": "b49ee4d5-aa36-413f-a2ba-bc4b1a801dfe",
   "metadata": {},
   "outputs": [
    {
     "name": "stdout",
     "output_type": "stream",
     "text": [
      "                                                   image     label\n",
      "0      F:\\Naan mudhalvan project sem 6\\archive (2)\\im...     angry\n",
      "1      F:\\Naan mudhalvan project sem 6\\archive (2)\\im...     angry\n",
      "2      F:\\Naan mudhalvan project sem 6\\archive (2)\\im...     angry\n",
      "3      F:\\Naan mudhalvan project sem 6\\archive (2)\\im...     angry\n",
      "4      F:\\Naan mudhalvan project sem 6\\archive (2)\\im...     angry\n",
      "...                                                  ...       ...\n",
      "28816  F:\\Naan mudhalvan project sem 6\\archive (2)\\im...  surprise\n",
      "28817  F:\\Naan mudhalvan project sem 6\\archive (2)\\im...  surprise\n",
      "28818  F:\\Naan mudhalvan project sem 6\\archive (2)\\im...  surprise\n",
      "28819  F:\\Naan mudhalvan project sem 6\\archive (2)\\im...  surprise\n",
      "28820  F:\\Naan mudhalvan project sem 6\\archive (2)\\im...  surprise\n",
      "\n",
      "[28821 rows x 2 columns]\n"
     ]
    }
   ],
   "source": [
    "print(train)"
   ]
  },
  {
   "cell_type": "code",
   "execution_count": 8,
   "id": "27a42983-0bab-4777-b117-8500c2e4b316",
   "metadata": {},
   "outputs": [
    {
     "name": "stdout",
     "output_type": "stream",
     "text": [
      "angry completed\n",
      "disgust completed\n",
      "fear completed\n",
      "happy completed\n",
      "neutral completed\n",
      "sad completed\n",
      "surprise completed\n"
     ]
    }
   ],
   "source": [
    "test = pd.DataFrame()\n",
    "test['image'],test['label']=createdataframe(Test_dir)"
   ]
  },
  {
   "cell_type": "code",
   "execution_count": 9,
   "id": "9f19ad74-23fe-4410-95aa-3a34aaa8c307",
   "metadata": {},
   "outputs": [
    {
     "name": "stdout",
     "output_type": "stream",
     "text": [
      "                                                  image     label\n",
      "0     F:\\Naan mudhalvan project sem 6\\archive (2)\\im...     angry\n",
      "1     F:\\Naan mudhalvan project sem 6\\archive (2)\\im...     angry\n",
      "2     F:\\Naan mudhalvan project sem 6\\archive (2)\\im...     angry\n",
      "3     F:\\Naan mudhalvan project sem 6\\archive (2)\\im...     angry\n",
      "4     F:\\Naan mudhalvan project sem 6\\archive (2)\\im...     angry\n",
      "...                                                 ...       ...\n",
      "7061  F:\\Naan mudhalvan project sem 6\\archive (2)\\im...  surprise\n",
      "7062  F:\\Naan mudhalvan project sem 6\\archive (2)\\im...  surprise\n",
      "7063  F:\\Naan mudhalvan project sem 6\\archive (2)\\im...  surprise\n",
      "7064  F:\\Naan mudhalvan project sem 6\\archive (2)\\im...  surprise\n",
      "7065  F:\\Naan mudhalvan project sem 6\\archive (2)\\im...  surprise\n",
      "\n",
      "[7066 rows x 2 columns]\n"
     ]
    }
   ],
   "source": [
    "print(test)"
   ]
  },
  {
   "cell_type": "code",
   "execution_count": 10,
   "id": "3b3cd7f4-223e-4c5b-bb83-481aff053a2a",
   "metadata": {},
   "outputs": [],
   "source": [
    "def extract_features(images):\n",
    "    features = []\n",
    "    for image in tqdm(images):\n",
    "        img = Image.open(image).convert('L')  # Convert to grayscale\n",
    "        img = np.array(img)\n",
    "        features.append(img)\n",
    "    features = np.array(features)\n",
    "    features = features.reshape(len(features),48,48,1)\n",
    "    return features"
   ]
  },
  {
   "cell_type": "code",
   "execution_count": 11,
   "id": "a7d34b3b-f27d-4d99-9262-685f3d0c1685",
   "metadata": {},
   "outputs": [
    {
     "data": {
      "application/vnd.jupyter.widget-view+json": {
       "model_id": "3c6259acc92443dc91c2fe7a3024d5ef",
       "version_major": 2,
       "version_minor": 0
      },
      "text/plain": [
       "  0%|          | 0/28821 [00:00<?, ?it/s]"
      ]
     },
     "metadata": {},
     "output_type": "display_data"
    }
   ],
   "source": [
    "train_features = extract_features(train['image'])"
   ]
  },
  {
   "cell_type": "code",
   "execution_count": 12,
   "id": "1be1ffc8-ff08-40d7-9662-1eca53e60687",
   "metadata": {},
   "outputs": [
    {
     "data": {
      "application/vnd.jupyter.widget-view+json": {
       "model_id": "c260cfc732b2460c9d337d7716c7b9e0",
       "version_major": 2,
       "version_minor": 0
      },
      "text/plain": [
       "  0%|          | 0/7066 [00:00<?, ?it/s]"
      ]
     },
     "metadata": {},
     "output_type": "display_data"
    }
   ],
   "source": [
    "test_features = extract_features(test['image'])"
   ]
  },
  {
   "cell_type": "code",
   "execution_count": 13,
   "id": "9da33a88-27bf-4f9d-9b3f-c83c471d9bd2",
   "metadata": {},
   "outputs": [],
   "source": [
    "x_train = train_features/255.0\n",
    "x_test = test_features/255.0"
   ]
  },
  {
   "cell_type": "code",
   "execution_count": 14,
   "id": "f9b7c5de-8f96-4a03-ab35-dce51ae3429e",
   "metadata": {},
   "outputs": [
    {
     "data": {
      "text/html": [
       "<style>#sk-container-id-1 {color: black;}#sk-container-id-1 pre{padding: 0;}#sk-container-id-1 div.sk-toggleable {background-color: white;}#sk-container-id-1 label.sk-toggleable__label {cursor: pointer;display: block;width: 100%;margin-bottom: 0;padding: 0.3em;box-sizing: border-box;text-align: center;}#sk-container-id-1 label.sk-toggleable__label-arrow:before {content: \"▸\";float: left;margin-right: 0.25em;color: #696969;}#sk-container-id-1 label.sk-toggleable__label-arrow:hover:before {color: black;}#sk-container-id-1 div.sk-estimator:hover label.sk-toggleable__label-arrow:before {color: black;}#sk-container-id-1 div.sk-toggleable__content {max-height: 0;max-width: 0;overflow: hidden;text-align: left;background-color: #f0f8ff;}#sk-container-id-1 div.sk-toggleable__content pre {margin: 0.2em;color: black;border-radius: 0.25em;background-color: #f0f8ff;}#sk-container-id-1 input.sk-toggleable__control:checked~div.sk-toggleable__content {max-height: 200px;max-width: 100%;overflow: auto;}#sk-container-id-1 input.sk-toggleable__control:checked~label.sk-toggleable__label-arrow:before {content: \"▾\";}#sk-container-id-1 div.sk-estimator input.sk-toggleable__control:checked~label.sk-toggleable__label {background-color: #d4ebff;}#sk-container-id-1 div.sk-label input.sk-toggleable__control:checked~label.sk-toggleable__label {background-color: #d4ebff;}#sk-container-id-1 input.sk-hidden--visually {border: 0;clip: rect(1px 1px 1px 1px);clip: rect(1px, 1px, 1px, 1px);height: 1px;margin: -1px;overflow: hidden;padding: 0;position: absolute;width: 1px;}#sk-container-id-1 div.sk-estimator {font-family: monospace;background-color: #f0f8ff;border: 1px dotted black;border-radius: 0.25em;box-sizing: border-box;margin-bottom: 0.5em;}#sk-container-id-1 div.sk-estimator:hover {background-color: #d4ebff;}#sk-container-id-1 div.sk-parallel-item::after {content: \"\";width: 100%;border-bottom: 1px solid gray;flex-grow: 1;}#sk-container-id-1 div.sk-label:hover label.sk-toggleable__label {background-color: #d4ebff;}#sk-container-id-1 div.sk-serial::before {content: \"\";position: absolute;border-left: 1px solid gray;box-sizing: border-box;top: 0;bottom: 0;left: 50%;z-index: 0;}#sk-container-id-1 div.sk-serial {display: flex;flex-direction: column;align-items: center;background-color: white;padding-right: 0.2em;padding-left: 0.2em;position: relative;}#sk-container-id-1 div.sk-item {position: relative;z-index: 1;}#sk-container-id-1 div.sk-parallel {display: flex;align-items: stretch;justify-content: center;background-color: white;position: relative;}#sk-container-id-1 div.sk-item::before, #sk-container-id-1 div.sk-parallel-item::before {content: \"\";position: absolute;border-left: 1px solid gray;box-sizing: border-box;top: 0;bottom: 0;left: 50%;z-index: -1;}#sk-container-id-1 div.sk-parallel-item {display: flex;flex-direction: column;z-index: 1;position: relative;background-color: white;}#sk-container-id-1 div.sk-parallel-item:first-child::after {align-self: flex-end;width: 50%;}#sk-container-id-1 div.sk-parallel-item:last-child::after {align-self: flex-start;width: 50%;}#sk-container-id-1 div.sk-parallel-item:only-child::after {width: 0;}#sk-container-id-1 div.sk-dashed-wrapped {border: 1px dashed gray;margin: 0 0.4em 0.5em 0.4em;box-sizing: border-box;padding-bottom: 0.4em;background-color: white;}#sk-container-id-1 div.sk-label label {font-family: monospace;font-weight: bold;display: inline-block;line-height: 1.2em;}#sk-container-id-1 div.sk-label-container {text-align: center;}#sk-container-id-1 div.sk-container {/* jupyter's `normalize.less` sets `[hidden] { display: none; }` but bootstrap.min.css set `[hidden] { display: none !important; }` so we also need the `!important` here to be able to override the default hidden behavior on the sphinx rendered scikit-learn.org. See: https://github.com/scikit-learn/scikit-learn/issues/21755 */display: inline-block !important;position: relative;}#sk-container-id-1 div.sk-text-repr-fallback {display: none;}</style><div id=\"sk-container-id-1\" class=\"sk-top-container\"><div class=\"sk-text-repr-fallback\"><pre>LabelEncoder()</pre><b>In a Jupyter environment, please rerun this cell to show the HTML representation or trust the notebook. <br />On GitHub, the HTML representation is unable to render, please try loading this page with nbviewer.org.</b></div><div class=\"sk-container\" hidden><div class=\"sk-item\"><div class=\"sk-estimator sk-toggleable\"><input class=\"sk-toggleable__control sk-hidden--visually\" id=\"sk-estimator-id-1\" type=\"checkbox\" checked><label for=\"sk-estimator-id-1\" class=\"sk-toggleable__label sk-toggleable__label-arrow\">LabelEncoder</label><div class=\"sk-toggleable__content\"><pre>LabelEncoder()</pre></div></div></div></div></div>"
      ],
      "text/plain": [
       "LabelEncoder()"
      ]
     },
     "execution_count": 14,
     "metadata": {},
     "output_type": "execute_result"
    }
   ],
   "source": [
    "le = LabelEncoder()\n",
    "le.fit(train['label'])"
   ]
  },
  {
   "cell_type": "code",
   "execution_count": 15,
   "id": "f98bbbb8-ff33-4349-a502-4c8472a415f4",
   "metadata": {},
   "outputs": [],
   "source": [
    "y_train = le.transform(train['label'])\n",
    "y_test = le.transform(test['label'])"
   ]
  },
  {
   "cell_type": "code",
   "execution_count": 16,
   "id": "ea6abfa5-cd17-4fd0-bacc-31917ad1e95c",
   "metadata": {},
   "outputs": [],
   "source": [
    "y_train = to_categorical(y_train,num_classes = 7)\n",
    "y_test = to_categorical(y_test,num_classes = 7)"
   ]
  },
  {
   "cell_type": "code",
   "execution_count": 17,
   "id": "67aeb6c2-f6d9-401b-986e-54b6200aec45",
   "metadata": {},
   "outputs": [],
   "source": [
    "# Create a Sequential model\n",
    "model = Sequential()\n",
    "\n",
    "# Add Convolutional layers\n",
    "model.add(Conv2D(128, (3, 3), activation='relu', input_shape=(48, 48, 1)))\n",
    "model.add(MaxPooling2D(pool_size=(2, 2)))\n",
    "model.add(Dropout(0,4))\n",
    "\n",
    "model.add(Conv2D(256, (3, 3), activation='relu'))\n",
    "model.add(MaxPooling2D(pool_size=(2, 2)))\n",
    "model.add(Dropout(0,4))\n",
    "\n",
    "model.add(Conv2D(512, (3, 3), activation='relu'))\n",
    "model.add(MaxPooling2D(pool_size=(2, 2)))\n",
    "model.add(Dropout(0,4))\n",
    "\n",
    "model.add(Conv2D(512, (3, 3), activation='relu'))\n",
    "model.add(MaxPooling2D(pool_size=(2, 2)))\n",
    "model.add(Dropout(0,4))\n",
    "\n",
    "# Flatten the output before feeding it into dense layers\n",
    "model.add(Flatten())\n",
    "\n",
    "# Add Dense (fully connected) layers\n",
    "model.add(Dense(512, activation='relu'))\n",
    "model.add(Dropout(0.4))  # Optional: Dropout for regularization\n",
    "# Add Dense (fully connected) layers\n",
    "model.add(Dense(256, activation='relu'))\n",
    "model.add(Dropout(0.3))  # Optional: Dropout for regularization\n",
    "\n",
    "model.add(Dense(7, activation='softmax'))  # Output layer for binary classification"
   ]
  },
  {
   "cell_type": "code",
   "execution_count": 18,
   "id": "ad8e6b87-e608-48b2-a554-63f696814a17",
   "metadata": {},
   "outputs": [],
   "source": [
    "# Compile the model\n",
    "model.compile(optimizer='adam', loss='binary_crossentropy', metrics=['accuracy'])"
   ]
  },
  {
   "cell_type": "code",
   "execution_count": 19,
   "id": "16220871-f733-466e-bea1-c0a5e9442548",
   "metadata": {},
   "outputs": [
    {
     "name": "stdout",
     "output_type": "stream",
     "text": [
      "Epoch 1/100\n",
      "226/226 [==============================] - 744s 3s/step - loss: 0.4027 - accuracy: 0.2276 - val_loss: 0.3847 - val_accuracy: 0.2611\n",
      "Epoch 2/100\n",
      "226/226 [==============================] - 717s 3s/step - loss: 0.3825 - accuracy: 0.2679 - val_loss: 0.3653 - val_accuracy: 0.3360\n",
      "Epoch 3/100\n",
      "226/226 [==============================] - 745s 3s/step - loss: 0.3352 - accuracy: 0.4040 - val_loss: 0.2969 - val_accuracy: 0.4860\n",
      "Epoch 4/100\n",
      "226/226 [==============================] - 681s 3s/step - loss: 0.2954 - accuracy: 0.5004 - val_loss: 0.2858 - val_accuracy: 0.5200\n",
      "Epoch 5/100\n",
      "226/226 [==============================] - 580s 3s/step - loss: 0.2726 - accuracy: 0.5436 - val_loss: 0.2716 - val_accuracy: 0.5481\n",
      "Epoch 6/100\n",
      "226/226 [==============================] - 613s 3s/step - loss: 0.2513 - accuracy: 0.5915 - val_loss: 0.2655 - val_accuracy: 0.5614\n",
      "Epoch 7/100\n",
      "226/226 [==============================] - 567s 3s/step - loss: 0.2318 - accuracy: 0.6300 - val_loss: 0.2626 - val_accuracy: 0.5754\n",
      "Epoch 8/100\n",
      "226/226 [==============================] - 543s 2s/step - loss: 0.2112 - accuracy: 0.6736 - val_loss: 0.2738 - val_accuracy: 0.5712\n",
      "Epoch 9/100\n",
      "226/226 [==============================] - 555s 2s/step - loss: 0.1883 - accuracy: 0.7121 - val_loss: 0.2797 - val_accuracy: 0.5835\n",
      "Epoch 10/100\n",
      "226/226 [==============================] - 536s 2s/step - loss: 0.1633 - accuracy: 0.7573 - val_loss: 0.2874 - val_accuracy: 0.5855\n",
      "Epoch 11/100\n",
      "226/226 [==============================] - 531s 2s/step - loss: 0.1374 - accuracy: 0.8023 - val_loss: 0.3218 - val_accuracy: 0.5822\n",
      "Epoch 12/100\n",
      "226/226 [==============================] - 552s 2s/step - loss: 0.1134 - accuracy: 0.8407 - val_loss: 0.3505 - val_accuracy: 0.5781\n",
      "Epoch 13/100\n",
      "226/226 [==============================] - 534s 2s/step - loss: 0.0922 - accuracy: 0.8725 - val_loss: 0.3910 - val_accuracy: 0.5768\n",
      "Epoch 14/100\n",
      "226/226 [==============================] - 533s 2s/step - loss: 0.0817 - accuracy: 0.8896 - val_loss: 0.3938 - val_accuracy: 0.5771\n",
      "Epoch 15/100\n",
      "226/226 [==============================] - 534s 2s/step - loss: 0.0688 - accuracy: 0.9085 - val_loss: 0.4461 - val_accuracy: 0.5856\n",
      "Epoch 16/100\n",
      "226/226 [==============================] - 588s 3s/step - loss: 0.0563 - accuracy: 0.9277 - val_loss: 0.4881 - val_accuracy: 0.5808\n",
      "Epoch 17/100\n",
      "226/226 [==============================] - 608s 3s/step - loss: 0.0471 - accuracy: 0.9389 - val_loss: 0.4972 - val_accuracy: 0.5794\n",
      "Epoch 18/100\n",
      "226/226 [==============================] - 618s 3s/step - loss: 0.0443 - accuracy: 0.9436 - val_loss: 0.5590 - val_accuracy: 0.5712\n",
      "Epoch 19/100\n",
      "226/226 [==============================] - 628s 3s/step - loss: 0.0409 - accuracy: 0.9492 - val_loss: 0.5233 - val_accuracy: 0.5708\n",
      "Epoch 20/100\n",
      "226/226 [==============================] - 659s 3s/step - loss: 0.0356 - accuracy: 0.9565 - val_loss: 0.5393 - val_accuracy: 0.5747\n",
      "Epoch 21/100\n",
      "226/226 [==============================] - 571s 3s/step - loss: 0.0306 - accuracy: 0.9621 - val_loss: 0.5746 - val_accuracy: 0.5763\n",
      "Epoch 22/100\n",
      "226/226 [==============================] - 539s 2s/step - loss: 0.0281 - accuracy: 0.9659 - val_loss: 0.5964 - val_accuracy: 0.5778\n",
      "Epoch 23/100\n",
      "226/226 [==============================] - 541s 2s/step - loss: 0.0293 - accuracy: 0.9636 - val_loss: 0.5990 - val_accuracy: 0.5767\n",
      "Epoch 24/100\n",
      "226/226 [==============================] - 532s 2s/step - loss: 0.0264 - accuracy: 0.9680 - val_loss: 0.6606 - val_accuracy: 0.5708\n",
      "Epoch 25/100\n",
      "226/226 [==============================] - 542s 2s/step - loss: 0.0245 - accuracy: 0.9702 - val_loss: 0.6470 - val_accuracy: 0.5801\n",
      "Epoch 26/100\n",
      "226/226 [==============================] - 535s 2s/step - loss: 0.0222 - accuracy: 0.9730 - val_loss: 0.6281 - val_accuracy: 0.5777\n",
      "Epoch 27/100\n",
      "226/226 [==============================] - 537s 2s/step - loss: 0.0221 - accuracy: 0.9734 - val_loss: 0.6385 - val_accuracy: 0.5710\n",
      "Epoch 28/100\n",
      "226/226 [==============================] - 537s 2s/step - loss: 0.0203 - accuracy: 0.9754 - val_loss: 0.6650 - val_accuracy: 0.5773\n",
      "Epoch 29/100\n",
      "226/226 [==============================] - 551s 2s/step - loss: 0.0211 - accuracy: 0.9756 - val_loss: 0.6745 - val_accuracy: 0.5811\n",
      "Epoch 30/100\n",
      "226/226 [==============================] - 545s 2s/step - loss: 0.0164 - accuracy: 0.9800 - val_loss: 0.7010 - val_accuracy: 0.5818\n",
      "Epoch 31/100\n",
      "226/226 [==============================] - 560s 2s/step - loss: 0.0185 - accuracy: 0.9780 - val_loss: 0.7244 - val_accuracy: 0.5768\n",
      "Epoch 32/100\n",
      "226/226 [==============================] - 542s 2s/step - loss: 0.0172 - accuracy: 0.9801 - val_loss: 0.7250 - val_accuracy: 0.5743\n",
      "Epoch 33/100\n",
      "226/226 [==============================] - 536s 2s/step - loss: 0.0179 - accuracy: 0.9800 - val_loss: 0.6964 - val_accuracy: 0.5800\n",
      "Epoch 34/100\n",
      "226/226 [==============================] - 534s 2s/step - loss: 0.0182 - accuracy: 0.9786 - val_loss: 0.6664 - val_accuracy: 0.5794\n",
      "Epoch 35/100\n",
      "226/226 [==============================] - 545s 2s/step - loss: 0.0138 - accuracy: 0.9839 - val_loss: 0.7400 - val_accuracy: 0.5674\n",
      "Epoch 36/100\n",
      "226/226 [==============================] - 535s 2s/step - loss: 0.0174 - accuracy: 0.9785 - val_loss: 0.7816 - val_accuracy: 0.5754\n",
      "Epoch 37/100\n",
      "226/226 [==============================] - 535s 2s/step - loss: 0.0153 - accuracy: 0.9823 - val_loss: 0.7075 - val_accuracy: 0.5751\n",
      "Epoch 38/100\n",
      "226/226 [==============================] - 535s 2s/step - loss: 0.0157 - accuracy: 0.9821 - val_loss: 0.6987 - val_accuracy: 0.5692\n",
      "Epoch 39/100\n",
      "226/226 [==============================] - 531s 2s/step - loss: 0.0152 - accuracy: 0.9817 - val_loss: 0.7546 - val_accuracy: 0.5801\n",
      "Epoch 40/100\n",
      "226/226 [==============================] - 531s 2s/step - loss: 0.0150 - accuracy: 0.9822 - val_loss: 0.7293 - val_accuracy: 0.5675\n",
      "Epoch 41/100\n",
      "226/226 [==============================] - 534s 2s/step - loss: 0.0139 - accuracy: 0.9831 - val_loss: 0.8126 - val_accuracy: 0.5824\n",
      "Epoch 42/100\n",
      "226/226 [==============================] - 531s 2s/step - loss: 0.0165 - accuracy: 0.9812 - val_loss: 0.7365 - val_accuracy: 0.5750\n",
      "Epoch 43/100\n",
      "226/226 [==============================] - 530s 2s/step - loss: 0.0130 - accuracy: 0.9858 - val_loss: 0.8012 - val_accuracy: 0.5757\n",
      "Epoch 44/100\n",
      "226/226 [==============================] - 531s 2s/step - loss: 0.0130 - accuracy: 0.9845 - val_loss: 0.7414 - val_accuracy: 0.5733\n",
      "Epoch 45/100\n",
      "226/226 [==============================] - 532s 2s/step - loss: 0.0153 - accuracy: 0.9819 - val_loss: 0.6982 - val_accuracy: 0.5727\n",
      "Epoch 46/100\n",
      "226/226 [==============================] - 532s 2s/step - loss: 0.0149 - accuracy: 0.9830 - val_loss: 0.6913 - val_accuracy: 0.5655\n",
      "Epoch 47/100\n",
      "226/226 [==============================] - 843s 4s/step - loss: 0.0122 - accuracy: 0.9856 - val_loss: 0.8151 - val_accuracy: 0.5851\n",
      "Epoch 48/100\n",
      "226/226 [==============================] - 2875s 13s/step - loss: 0.0132 - accuracy: 0.9842 - val_loss: 0.8131 - val_accuracy: 0.5770\n",
      "Epoch 49/100\n",
      "226/226 [==============================] - 549s 2s/step - loss: 0.0157 - accuracy: 0.9820 - val_loss: 0.8287 - val_accuracy: 0.5708\n",
      "Epoch 50/100\n",
      "226/226 [==============================] - 540s 2s/step - loss: 0.0117 - accuracy: 0.9860 - val_loss: 0.7977 - val_accuracy: 0.5778\n",
      "Epoch 51/100\n",
      "226/226 [==============================] - 542s 2s/step - loss: 0.0112 - accuracy: 0.9865 - val_loss: 0.7811 - val_accuracy: 0.5767\n",
      "Epoch 52/100\n",
      "226/226 [==============================] - 541s 2s/step - loss: 0.0124 - accuracy: 0.9862 - val_loss: 0.7766 - val_accuracy: 0.5784\n",
      "Epoch 53/100\n",
      "226/226 [==============================] - 541s 2s/step - loss: 0.0102 - accuracy: 0.9876 - val_loss: 0.7400 - val_accuracy: 0.5897\n",
      "Epoch 54/100\n",
      "226/226 [==============================] - 541s 2s/step - loss: 0.0144 - accuracy: 0.9824 - val_loss: 0.7941 - val_accuracy: 0.5669\n",
      "Epoch 55/100\n",
      "226/226 [==============================] - 541s 2s/step - loss: 0.0136 - accuracy: 0.9837 - val_loss: 0.8002 - val_accuracy: 0.5849\n",
      "Epoch 56/100\n",
      "226/226 [==============================] - 543s 2s/step - loss: 0.0127 - accuracy: 0.9847 - val_loss: 0.8089 - val_accuracy: 0.5702\n",
      "Epoch 57/100\n",
      "226/226 [==============================] - 551s 2s/step - loss: 0.0111 - accuracy: 0.9873 - val_loss: 0.7718 - val_accuracy: 0.5808\n",
      "Epoch 58/100\n",
      "226/226 [==============================] - 547s 2s/step - loss: 0.0076 - accuracy: 0.9910 - val_loss: 0.8919 - val_accuracy: 0.5793\n",
      "Epoch 59/100\n",
      "226/226 [==============================] - 544s 2s/step - loss: 0.0098 - accuracy: 0.9885 - val_loss: 0.9685 - val_accuracy: 0.5773\n",
      "Epoch 60/100\n",
      "226/226 [==============================] - 544s 2s/step - loss: 0.0133 - accuracy: 0.9849 - val_loss: 0.8388 - val_accuracy: 0.5742\n",
      "Epoch 61/100\n",
      "226/226 [==============================] - 542s 2s/step - loss: 0.0116 - accuracy: 0.9865 - val_loss: 0.8119 - val_accuracy: 0.5825\n",
      "Epoch 62/100\n",
      "226/226 [==============================] - 543s 2s/step - loss: 0.0118 - accuracy: 0.9853 - val_loss: 0.7571 - val_accuracy: 0.5729\n",
      "Epoch 63/100\n",
      "226/226 [==============================] - 545s 2s/step - loss: 0.0106 - accuracy: 0.9874 - val_loss: 0.7953 - val_accuracy: 0.5805\n",
      "Epoch 64/100\n",
      "226/226 [==============================] - 543s 2s/step - loss: 0.0105 - accuracy: 0.9883 - val_loss: 0.8187 - val_accuracy: 0.5855\n",
      "Epoch 65/100\n",
      "226/226 [==============================] - 542s 2s/step - loss: 0.0107 - accuracy: 0.9875 - val_loss: 0.8147 - val_accuracy: 0.5794\n",
      "Epoch 66/100\n",
      "226/226 [==============================] - 541s 2s/step - loss: 0.0085 - accuracy: 0.9900 - val_loss: 0.8477 - val_accuracy: 0.5821\n",
      "Epoch 67/100\n",
      "226/226 [==============================] - 542s 2s/step - loss: 0.0085 - accuracy: 0.9897 - val_loss: 0.8344 - val_accuracy: 0.5774\n",
      "Epoch 68/100\n",
      "226/226 [==============================] - 542s 2s/step - loss: 0.0094 - accuracy: 0.9888 - val_loss: 0.8826 - val_accuracy: 0.5767\n",
      "Epoch 69/100\n",
      "226/226 [==============================] - 578s 3s/step - loss: 0.0132 - accuracy: 0.9855 - val_loss: 0.8174 - val_accuracy: 0.5914\n",
      "Epoch 70/100\n",
      "226/226 [==============================] - 598s 3s/step - loss: 0.0078 - accuracy: 0.9904 - val_loss: 0.8539 - val_accuracy: 0.5795\n",
      "Epoch 71/100\n",
      "226/226 [==============================] - 549s 2s/step - loss: 0.0151 - accuracy: 0.9819 - val_loss: 0.8401 - val_accuracy: 0.5814\n",
      "Epoch 72/100\n",
      "226/226 [==============================] - 544s 2s/step - loss: 0.0102 - accuracy: 0.9883 - val_loss: 0.8306 - val_accuracy: 0.5767\n",
      "Epoch 73/100\n",
      "226/226 [==============================] - 545s 2s/step - loss: 0.0089 - accuracy: 0.9899 - val_loss: 0.8486 - val_accuracy: 0.5819\n",
      "Epoch 74/100\n",
      "226/226 [==============================] - 631s 3s/step - loss: 0.0076 - accuracy: 0.9912 - val_loss: 0.8658 - val_accuracy: 0.5868\n",
      "Epoch 75/100\n",
      "226/226 [==============================] - 734s 3s/step - loss: 0.0086 - accuracy: 0.9898 - val_loss: 0.9481 - val_accuracy: 0.5719\n",
      "Epoch 76/100\n",
      "226/226 [==============================] - 541s 2s/step - loss: 0.0086 - accuracy: 0.9896 - val_loss: 0.9223 - val_accuracy: 0.5800\n",
      "Epoch 77/100\n",
      "226/226 [==============================] - 535s 2s/step - loss: 0.0100 - accuracy: 0.9883 - val_loss: 0.8233 - val_accuracy: 0.5686\n",
      "Epoch 78/100\n",
      "226/226 [==============================] - 36003s 160s/step - loss: 0.0098 - accuracy: 0.9878 - val_loss: 0.9149 - val_accuracy: 0.5722\n",
      "Epoch 79/100\n",
      "226/226 [==============================] - 537s 2s/step - loss: 0.0125 - accuracy: 0.9860 - val_loss: 0.8822 - val_accuracy: 0.5852\n",
      "Epoch 80/100\n",
      "226/226 [==============================] - 526s 2s/step - loss: 0.0074 - accuracy: 0.9910 - val_loss: 0.9237 - val_accuracy: 0.5829\n",
      "Epoch 81/100\n",
      "226/226 [==============================] - 525s 2s/step - loss: 0.0085 - accuracy: 0.9897 - val_loss: 0.9305 - val_accuracy: 0.5849\n",
      "Epoch 82/100\n",
      "226/226 [==============================] - 533s 2s/step - loss: 0.0078 - accuracy: 0.9907 - val_loss: 0.9281 - val_accuracy: 0.5749\n",
      "Epoch 83/100\n",
      "226/226 [==============================] - 536s 2s/step - loss: 0.0069 - accuracy: 0.9920 - val_loss: 0.9284 - val_accuracy: 0.5635\n",
      "Epoch 84/100\n",
      "226/226 [==============================] - 535s 2s/step - loss: 0.0106 - accuracy: 0.9878 - val_loss: 0.9116 - val_accuracy: 0.5771\n",
      "Epoch 85/100\n",
      "226/226 [==============================] - 538s 2s/step - loss: 0.0114 - accuracy: 0.9876 - val_loss: 0.8584 - val_accuracy: 0.5873\n",
      "Epoch 86/100\n",
      "226/226 [==============================] - 543s 2s/step - loss: 0.0086 - accuracy: 0.9902 - val_loss: 0.9484 - val_accuracy: 0.5785\n",
      "Epoch 87/100\n",
      "226/226 [==============================] - 534s 2s/step - loss: 0.0091 - accuracy: 0.9895 - val_loss: 0.9263 - val_accuracy: 0.5793\n",
      "Epoch 88/100\n",
      "226/226 [==============================] - 535s 2s/step - loss: 0.0074 - accuracy: 0.9913 - val_loss: 0.9558 - val_accuracy: 0.5790\n",
      "Epoch 89/100\n",
      "226/226 [==============================] - 533s 2s/step - loss: 0.0083 - accuracy: 0.9906 - val_loss: 0.9405 - val_accuracy: 0.5819\n",
      "Epoch 90/100\n",
      "226/226 [==============================] - 535s 2s/step - loss: 0.0098 - accuracy: 0.9888 - val_loss: 0.8849 - val_accuracy: 0.5781\n",
      "Epoch 91/100\n",
      "226/226 [==============================] - 627s 3s/step - loss: 0.0109 - accuracy: 0.9874 - val_loss: 0.8607 - val_accuracy: 0.5795\n",
      "Epoch 92/100\n",
      "226/226 [==============================] - 641s 3s/step - loss: 0.0094 - accuracy: 0.9891 - val_loss: 0.9392 - val_accuracy: 0.5855\n",
      "Epoch 93/100\n",
      "226/226 [==============================] - 615s 3s/step - loss: 0.0066 - accuracy: 0.9924 - val_loss: 0.8991 - val_accuracy: 0.5798\n",
      "Epoch 94/100\n",
      "226/226 [==============================] - 544s 2s/step - loss: 0.0065 - accuracy: 0.9923 - val_loss: 0.9465 - val_accuracy: 0.5821\n",
      "Epoch 95/100\n",
      "226/226 [==============================] - 541s 2s/step - loss: 0.0084 - accuracy: 0.9898 - val_loss: 0.8960 - val_accuracy: 0.5824\n",
      "Epoch 96/100\n",
      "226/226 [==============================] - 533s 2s/step - loss: 0.0069 - accuracy: 0.9913 - val_loss: 0.9325 - val_accuracy: 0.5918\n",
      "Epoch 97/100\n",
      "226/226 [==============================] - 533s 2s/step - loss: 0.0090 - accuracy: 0.9890 - val_loss: 0.9661 - val_accuracy: 0.5883\n",
      "Epoch 98/100\n",
      "226/226 [==============================] - 537s 2s/step - loss: 0.0070 - accuracy: 0.9910 - val_loss: 0.9983 - val_accuracy: 0.5822\n",
      "Epoch 99/100\n",
      "226/226 [==============================] - 534s 2s/step - loss: 0.0096 - accuracy: 0.9889 - val_loss: 0.8946 - val_accuracy: 0.5848\n",
      "Epoch 100/100\n",
      "226/226 [==============================] - 535s 2s/step - loss: 0.0064 - accuracy: 0.9925 - val_loss: 0.9317 - val_accuracy: 0.5743\n"
     ]
    },
    {
     "data": {
      "text/plain": [
       "<keras.src.callbacks.History at 0x1e37b122490>"
      ]
     },
     "execution_count": 19,
     "metadata": {},
     "output_type": "execute_result"
    }
   ],
   "source": [
    "model.fit(x = x_train , y = y_train, epochs=100, batch_size=128, validation_data= (x_test,y_test))"
   ]
  },
  {
   "cell_type": "code",
   "execution_count": 20,
   "id": "b5e5d999-9eaf-4f7a-a123-6dfa0d6331df",
   "metadata": {},
   "outputs": [
    {
     "name": "stdout",
     "output_type": "stream",
     "text": [
      "221/221 [==============================] - 22s 100ms/step - loss: 0.9317 - accuracy: 0.5743\n",
      "Test Accuracy: 0.5742994546890259\n"
     ]
    }
   ],
   "source": [
    "# Evaluate the model on the test data\n",
    "loss, accuracy = model.evaluate(x_test, y_test)\n",
    "\n",
    "# Print the test accuracy\n",
    "print(\"Test Accuracy:\", accuracy)"
   ]
  },
  {
   "cell_type": "code",
   "execution_count": 21,
   "id": "c065f6f7-a170-4a46-bb44-c76b80ec2179",
   "metadata": {},
   "outputs": [
    {
     "ename": "NameError",
     "evalue": "name 'history' is not defined",
     "output_type": "error",
     "traceback": [
      "\u001b[1;31m---------------------------------------------------------------------------\u001b[0m",
      "\u001b[1;31mNameError\u001b[0m                                 Traceback (most recent call last)",
      "Cell \u001b[1;32mIn[21], line 4\u001b[0m\n\u001b[0;32m      1\u001b[0m \u001b[38;5;28;01mimport\u001b[39;00m \u001b[38;5;21;01mmatplotlib\u001b[39;00m\u001b[38;5;21;01m.\u001b[39;00m\u001b[38;5;21;01mpyplot\u001b[39;00m \u001b[38;5;28;01mas\u001b[39;00m \u001b[38;5;21;01mplt\u001b[39;00m\n\u001b[0;32m      3\u001b[0m \u001b[38;5;66;03m# Plot training & validation accuracy values\u001b[39;00m\n\u001b[1;32m----> 4\u001b[0m plt\u001b[38;5;241m.\u001b[39mplot(\u001b[43mhistory\u001b[49m\u001b[38;5;241m.\u001b[39mhistory[\u001b[38;5;124m'\u001b[39m\u001b[38;5;124maccuracy\u001b[39m\u001b[38;5;124m'\u001b[39m])\n\u001b[0;32m      5\u001b[0m plt\u001b[38;5;241m.\u001b[39mplot(history\u001b[38;5;241m.\u001b[39mhistory[\u001b[38;5;124m'\u001b[39m\u001b[38;5;124mval_accuracy\u001b[39m\u001b[38;5;124m'\u001b[39m])\n\u001b[0;32m      6\u001b[0m plt\u001b[38;5;241m.\u001b[39mtitle(\u001b[38;5;124m'\u001b[39m\u001b[38;5;124mModel accuracy\u001b[39m\u001b[38;5;124m'\u001b[39m)\n",
      "\u001b[1;31mNameError\u001b[0m: name 'history' is not defined"
     ]
    }
   ],
   "source": [
    "import matplotlib.pyplot as plt\n",
    "\n",
    "# Plot training & validation accuracy values\n",
    "plt.plot(history.history['accuracy'])\n",
    "plt.plot(history.history['val_accuracy'])\n",
    "plt.title('Model accuracy')\n",
    "plt.xlabel('Epoch')\n",
    "plt.ylabel('Accuracy')\n",
    "plt.legend(['Train', 'Validation'], loc='upper left')\n",
    "plt.show()\n",
    "\n",
    "# Plot training & validation loss values\n",
    "plt.plot(history.history['loss'])\n",
    "plt.plot(history.history['val_loss'])\n",
    "plt.title('Model loss')\n",
    "plt.xlabel('Epoch')\n",
    "plt.ylabel('Loss')\n",
    "plt.legend(['Train', 'Validation'], loc='upper left')\n",
    "plt.show()"
   ]
  },
  {
   "cell_type": "code",
   "execution_count": null,
   "id": "26eb54b0-375f-42e3-8d65-ce66684c74b7",
   "metadata": {},
   "outputs": [],
   "source": []
  }
 ],
 "metadata": {
  "kernelspec": {
   "display_name": "Python 3 (ipykernel)",
   "language": "python",
   "name": "python3"
  },
  "language_info": {
   "codemirror_mode": {
    "name": "ipython",
    "version": 3
   },
   "file_extension": ".py",
   "mimetype": "text/x-python",
   "name": "python",
   "nbconvert_exporter": "python",
   "pygments_lexer": "ipython3",
   "version": "3.11.8"
  }
 },
 "nbformat": 4,
 "nbformat_minor": 5
}
